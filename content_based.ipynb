{
 "cells": [
  {
   "cell_type": "markdown",
   "source": [],
   "metadata": {
    "collapsed": false
   }
  },
  {
   "cell_type": "markdown",
   "source": [
    "## import and preprocessing"
   ],
   "metadata": {
    "collapsed": false,
    "pycharm": {
     "name": "#%% md\n"
    }
   }
  },
  {
   "cell_type": "code",
   "execution_count": 1,
   "outputs": [],
   "source": [
    "import pandas as pd"
   ],
   "metadata": {
    "collapsed": false,
    "pycharm": {
     "name": "#%%\n"
    }
   }
  },
  {
   "cell_type": "code",
   "execution_count": 2,
   "outputs": [
    {
     "data": {
      "text/plain": "(4803, 8)"
     },
     "execution_count": 2,
     "metadata": {},
     "output_type": "execute_result"
    }
   ],
   "source": [
    "df = pd.read_csv('./archive/tmdb_5000_movies.csv')\n",
    "using_data = df[['id', 'genres', 'vote_average', 'vote_count', 'popularity', 'title', 'keywords', 'overview']]\n",
    "using_data.shape"
   ],
   "metadata": {
    "collapsed": false,
    "pycharm": {
     "name": "#%%\n"
    }
   }
  },
  {
   "cell_type": "code",
   "execution_count": 3,
   "outputs": [],
   "source": [
    "m = using_data['vote_count'].quantile(0.9)\n",
    "using_data = using_data.loc[using_data['vote_count'] >= m]\n",
    "c = using_data['vote_average'].mean()"
   ],
   "metadata": {
    "collapsed": false,
    "pycharm": {
     "name": "#%%\n"
    }
   }
  },
  {
   "cell_type": "code",
   "execution_count": 4,
   "outputs": [],
   "source": [
    "def weight_rating(x, m=m, c=c):\n",
    "    v = x['vote_count']\n",
    "    r = x['vote_average']\n",
    "    return (v / (v + m) * r) + (m / (v + m) * c)"
   ],
   "metadata": {
    "collapsed": false,
    "pycharm": {
     "name": "#%%\n"
    }
   }
  },
  {
   "cell_type": "code",
   "execution_count": 5,
   "outputs": [
    {
     "data": {
      "text/plain": "(481, 9)"
     },
     "execution_count": 5,
     "metadata": {},
     "output_type": "execute_result"
    }
   ],
   "source": [
    "using_data['score'] = using_data.apply(weight_rating, axis=1)\n",
    "using_data.shape"
   ],
   "metadata": {
    "collapsed": false,
    "pycharm": {
     "name": "#%%\n"
    }
   }
  },
  {
   "cell_type": "code",
   "execution_count": 6,
   "outputs": [
    {
     "data": {
      "text/plain": "       id                                             genres  vote_average  \\\n0   19995  [{\"id\": 28, \"name\": \"Action\"}, {\"id\": 12, \"nam...           7.2   \n1     285  [{\"id\": 12, \"name\": \"Adventure\"}, {\"id\": 14, \"...           6.9   \n2  206647  [{\"id\": 28, \"name\": \"Action\"}, {\"id\": 12, \"nam...           6.3   \n3   49026  [{\"id\": 28, \"name\": \"Action\"}, {\"id\": 80, \"nam...           7.6   \n4   49529  [{\"id\": 28, \"name\": \"Action\"}, {\"id\": 12, \"nam...           6.1   \n\n   vote_count  popularity                                     title  \\\n0       11800  150.437577                                    Avatar   \n1        4500  139.082615  Pirates of the Caribbean: At World's End   \n2        4466  107.376788                                   Spectre   \n3        9106  112.312950                     The Dark Knight Rises   \n4        2124   43.926995                               John Carter   \n\n                                            keywords  \\\n0  [{\"id\": 1463, \"name\": \"culture clash\"}, {\"id\":...   \n1  [{\"id\": 270, \"name\": \"ocean\"}, {\"id\": 726, \"na...   \n2  [{\"id\": 470, \"name\": \"spy\"}, {\"id\": 818, \"name...   \n3  [{\"id\": 849, \"name\": \"dc comics\"}, {\"id\": 853,...   \n4  [{\"id\": 818, \"name\": \"based on novel\"}, {\"id\":...   \n\n                                            overview     score  \n0  In the 22nd century, a paraplegic Marine is di...  7.168053  \n1  Captain Barbossa, long believed to be dead, ha...  6.918271  \n2  A cryptic message from Bond’s past sends him o...  6.493333  \n3  Following the death of District Attorney Harve...  7.492998  \n4  John Carter is a war-weary, former military ca...  6.500396  ",
      "text/html": "<div>\n<style scoped>\n    .dataframe tbody tr th:only-of-type {\n        vertical-align: middle;\n    }\n\n    .dataframe tbody tr th {\n        vertical-align: top;\n    }\n\n    .dataframe thead th {\n        text-align: right;\n    }\n</style>\n<table border=\"1\" class=\"dataframe\">\n  <thead>\n    <tr style=\"text-align: right;\">\n      <th></th>\n      <th>id</th>\n      <th>genres</th>\n      <th>vote_average</th>\n      <th>vote_count</th>\n      <th>popularity</th>\n      <th>title</th>\n      <th>keywords</th>\n      <th>overview</th>\n      <th>score</th>\n    </tr>\n  </thead>\n  <tbody>\n    <tr>\n      <th>0</th>\n      <td>19995</td>\n      <td>[{\"id\": 28, \"name\": \"Action\"}, {\"id\": 12, \"nam...</td>\n      <td>7.2</td>\n      <td>11800</td>\n      <td>150.437577</td>\n      <td>Avatar</td>\n      <td>[{\"id\": 1463, \"name\": \"culture clash\"}, {\"id\":...</td>\n      <td>In the 22nd century, a paraplegic Marine is di...</td>\n      <td>7.168053</td>\n    </tr>\n    <tr>\n      <th>1</th>\n      <td>285</td>\n      <td>[{\"id\": 12, \"name\": \"Adventure\"}, {\"id\": 14, \"...</td>\n      <td>6.9</td>\n      <td>4500</td>\n      <td>139.082615</td>\n      <td>Pirates of the Caribbean: At World's End</td>\n      <td>[{\"id\": 270, \"name\": \"ocean\"}, {\"id\": 726, \"na...</td>\n      <td>Captain Barbossa, long believed to be dead, ha...</td>\n      <td>6.918271</td>\n    </tr>\n    <tr>\n      <th>2</th>\n      <td>206647</td>\n      <td>[{\"id\": 28, \"name\": \"Action\"}, {\"id\": 12, \"nam...</td>\n      <td>6.3</td>\n      <td>4466</td>\n      <td>107.376788</td>\n      <td>Spectre</td>\n      <td>[{\"id\": 470, \"name\": \"spy\"}, {\"id\": 818, \"name...</td>\n      <td>A cryptic message from Bond’s past sends him o...</td>\n      <td>6.493333</td>\n    </tr>\n    <tr>\n      <th>3</th>\n      <td>49026</td>\n      <td>[{\"id\": 28, \"name\": \"Action\"}, {\"id\": 80, \"nam...</td>\n      <td>7.6</td>\n      <td>9106</td>\n      <td>112.312950</td>\n      <td>The Dark Knight Rises</td>\n      <td>[{\"id\": 849, \"name\": \"dc comics\"}, {\"id\": 853,...</td>\n      <td>Following the death of District Attorney Harve...</td>\n      <td>7.492998</td>\n    </tr>\n    <tr>\n      <th>4</th>\n      <td>49529</td>\n      <td>[{\"id\": 28, \"name\": \"Action\"}, {\"id\": 12, \"nam...</td>\n      <td>6.1</td>\n      <td>2124</td>\n      <td>43.926995</td>\n      <td>John Carter</td>\n      <td>[{\"id\": 818, \"name\": \"based on novel\"}, {\"id\":...</td>\n      <td>John Carter is a war-weary, former military ca...</td>\n      <td>6.500396</td>\n    </tr>\n  </tbody>\n</table>\n</div>"
     },
     "execution_count": 6,
     "metadata": {},
     "output_type": "execute_result"
    }
   ],
   "source": [
    "using_data.head()"
   ],
   "metadata": {
    "collapsed": false,
    "pycharm": {
     "name": "#%%\n"
    }
   }
  },
  {
   "cell_type": "code",
   "execution_count": 7,
   "outputs": [
    {
     "data": {
      "text/plain": "                                              genres  \\\n0  [{\"id\": 28, \"name\": \"Action\"}, {\"id\": 12, \"nam...   \n1  [{\"id\": 12, \"name\": \"Adventure\"}, {\"id\": 14, \"...   \n2  [{\"id\": 28, \"name\": \"Action\"}, {\"id\": 12, \"nam...   \n3  [{\"id\": 28, \"name\": \"Action\"}, {\"id\": 80, \"nam...   \n4  [{\"id\": 28, \"name\": \"Action\"}, {\"id\": 12, \"nam...   \n\n                                            keywords  \n0  [{\"id\": 1463, \"name\": \"culture clash\"}, {\"id\":...  \n1  [{\"id\": 270, \"name\": \"ocean\"}, {\"id\": 726, \"na...  \n2  [{\"id\": 470, \"name\": \"spy\"}, {\"id\": 818, \"name...  \n3  [{\"id\": 849, \"name\": \"dc comics\"}, {\"id\": 853,...  \n4  [{\"id\": 818, \"name\": \"based on novel\"}, {\"id\":...  ",
      "text/html": "<div>\n<style scoped>\n    .dataframe tbody tr th:only-of-type {\n        vertical-align: middle;\n    }\n\n    .dataframe tbody tr th {\n        vertical-align: top;\n    }\n\n    .dataframe thead th {\n        text-align: right;\n    }\n</style>\n<table border=\"1\" class=\"dataframe\">\n  <thead>\n    <tr style=\"text-align: right;\">\n      <th></th>\n      <th>genres</th>\n      <th>keywords</th>\n    </tr>\n  </thead>\n  <tbody>\n    <tr>\n      <th>0</th>\n      <td>[{\"id\": 28, \"name\": \"Action\"}, {\"id\": 12, \"nam...</td>\n      <td>[{\"id\": 1463, \"name\": \"culture clash\"}, {\"id\":...</td>\n    </tr>\n    <tr>\n      <th>1</th>\n      <td>[{\"id\": 12, \"name\": \"Adventure\"}, {\"id\": 14, \"...</td>\n      <td>[{\"id\": 270, \"name\": \"ocean\"}, {\"id\": 726, \"na...</td>\n    </tr>\n    <tr>\n      <th>2</th>\n      <td>[{\"id\": 28, \"name\": \"Action\"}, {\"id\": 12, \"nam...</td>\n      <td>[{\"id\": 470, \"name\": \"spy\"}, {\"id\": 818, \"name...</td>\n    </tr>\n    <tr>\n      <th>3</th>\n      <td>[{\"id\": 28, \"name\": \"Action\"}, {\"id\": 80, \"nam...</td>\n      <td>[{\"id\": 849, \"name\": \"dc comics\"}, {\"id\": 853,...</td>\n    </tr>\n    <tr>\n      <th>4</th>\n      <td>[{\"id\": 28, \"name\": \"Action\"}, {\"id\": 12, \"nam...</td>\n      <td>[{\"id\": 818, \"name\": \"based on novel\"}, {\"id\":...</td>\n    </tr>\n  </tbody>\n</table>\n</div>"
     },
     "execution_count": 7,
     "metadata": {},
     "output_type": "execute_result"
    }
   ],
   "source": [
    "using_data[['genres', 'keywords']].head()"
   ],
   "metadata": {
    "collapsed": false,
    "pycharm": {
     "name": "#%%\n"
    }
   }
  },
  {
   "cell_type": "code",
   "execution_count": 8,
   "outputs": [],
   "source": [
    "import ast as ast"
   ],
   "metadata": {
    "collapsed": false,
    "pycharm": {
     "name": "#%%\n"
    }
   }
  },
  {
   "cell_type": "code",
   "execution_count": 9,
   "outputs": [],
   "source": [
    "using_data['genres'] = using_data['genres'].apply(ast.literal_eval)"
   ],
   "metadata": {
    "collapsed": false,
    "pycharm": {
     "name": "#%%\n"
    }
   }
  },
  {
   "cell_type": "code",
   "execution_count": 10,
   "outputs": [
    {
     "data": {
      "text/plain": "                                              genres  \\\n0  [{'id': 28, 'name': 'Action'}, {'id': 12, 'nam...   \n1  [{'id': 12, 'name': 'Adventure'}, {'id': 14, '...   \n\n                                            keywords  \n0  [{'id': 1463, 'name': 'culture clash'}, {'id':...  \n1  [{'id': 270, 'name': 'ocean'}, {'id': 726, 'na...  ",
      "text/html": "<div>\n<style scoped>\n    .dataframe tbody tr th:only-of-type {\n        vertical-align: middle;\n    }\n\n    .dataframe tbody tr th {\n        vertical-align: top;\n    }\n\n    .dataframe thead th {\n        text-align: right;\n    }\n</style>\n<table border=\"1\" class=\"dataframe\">\n  <thead>\n    <tr style=\"text-align: right;\">\n      <th></th>\n      <th>genres</th>\n      <th>keywords</th>\n    </tr>\n  </thead>\n  <tbody>\n    <tr>\n      <th>0</th>\n      <td>[{'id': 28, 'name': 'Action'}, {'id': 12, 'nam...</td>\n      <td>[{'id': 1463, 'name': 'culture clash'}, {'id':...</td>\n    </tr>\n    <tr>\n      <th>1</th>\n      <td>[{'id': 12, 'name': 'Adventure'}, {'id': 14, '...</td>\n      <td>[{'id': 270, 'name': 'ocean'}, {'id': 726, 'na...</td>\n    </tr>\n  </tbody>\n</table>\n</div>"
     },
     "execution_count": 10,
     "metadata": {},
     "output_type": "execute_result"
    }
   ],
   "source": [
    "using_data['keywords'] = using_data['keywords'].apply(ast.literal_eval)\n",
    "using_data[['genres', 'keywords']].head(2)"
   ],
   "metadata": {
    "collapsed": false,
    "pycharm": {
     "name": "#%%\n"
    }
   }
  },
  {
   "cell_type": "code",
   "execution_count": 11,
   "outputs": [],
   "source": [
    "using_data['genres'] = using_data['genres'].apply(lambda x: [d['name'] for d in x]).apply(lambda x: \" \".join(x))"
   ],
   "metadata": {
    "collapsed": false,
    "pycharm": {
     "name": "#%%\n"
    }
   }
  },
  {
   "cell_type": "code",
   "execution_count": 12,
   "outputs": [],
   "source": [
    "using_data['keywords'] = using_data['keywords'].apply(lambda x: [d['name'] for d in x]).apply(lambda x: \" \".join(x))"
   ],
   "metadata": {
    "collapsed": false,
    "pycharm": {
     "name": "#%%\n"
    }
   }
  },
  {
   "cell_type": "code",
   "execution_count": 13,
   "outputs": [
    {
     "data": {
      "text/plain": "          id                                    genres  vote_average  \\\n0      19995  Action Adventure Fantasy Science Fiction           7.2   \n1        285                  Adventure Fantasy Action           6.9   \n2     206647                    Action Adventure Crime           6.3   \n3      49026               Action Crime Drama Thriller           7.6   \n4      49529          Action Adventure Science Fiction           6.1   \n...      ...                                       ...           ...   \n4291     176                      Horror Mystery Crime           7.2   \n4300     500                            Crime Thriller           8.0   \n4302     429                                   Western           8.1   \n4337     103                               Crime Drama           8.0   \n4602     389                                     Drama           8.2   \n\n      vote_count  popularity                                     title  \\\n0          11800  150.437577                                    Avatar   \n1           4500  139.082615  Pirates of the Caribbean: At World's End   \n2           4466  107.376788                                   Spectre   \n3           9106  112.312950                     The Dark Knight Rises   \n4           2124   43.926995                               John Carter   \n...          ...         ...                                       ...   \n4291        2184   63.655973                                       Saw   \n4300        3697   66.925866                            Reservoir Dogs   \n4302        2311   88.377076            The Good, the Bad and the Ugly   \n4337        2535   58.845025                               Taxi Driver   \n4602        2078   59.259204                              12 Angry Men   \n\n                                               keywords  \\\n0     culture clash future space war space colony so...   \n1     ocean drug abuse exotic island east india trad...   \n2     spy based on novel secret agent sequel mi6 bri...   \n3     dc comics crime fighter terrorist secret ident...   \n4     based on novel mars medallion space travel pri...   \n...                                                 ...   \n4291  shotgun based on short film sadist pistol chai...   \n4300  traitor jewelry psychopath thief heist betraya...   \n4302  bounty hunter refugee gold anti hero gallows h...   \n4337  vietnam veteran taxi obsession drug dealer nig...   \n4602  judge jurors sultriness death penalty father m...   \n\n                                               overview     score  \n0     In the 22nd century, a paraplegic Marine is di...  7.168053  \n1     Captain Barbossa, long believed to be dead, ha...  6.918271  \n2     A cryptic message from Bond’s past sends him o...  6.493333  \n3     Following the death of District Attorney Harve...  7.492998  \n4     John Carter is a war-weary, former military ca...  6.500396  \n...                                                 ...       ...  \n4291  Obsessed with teaching his victims the value o...  7.091679  \n4300  A botched robbery indicates a police informant...  7.655593  \n4302  While the Civil War rages between the Union an...  7.596247  \n4337  A mentally unstable Vietnam War veteran works ...  7.564085  \n4602  The defense and the prosecution have rested an...  7.619336  \n\n[481 rows x 9 columns]",
      "text/html": "<div>\n<style scoped>\n    .dataframe tbody tr th:only-of-type {\n        vertical-align: middle;\n    }\n\n    .dataframe tbody tr th {\n        vertical-align: top;\n    }\n\n    .dataframe thead th {\n        text-align: right;\n    }\n</style>\n<table border=\"1\" class=\"dataframe\">\n  <thead>\n    <tr style=\"text-align: right;\">\n      <th></th>\n      <th>id</th>\n      <th>genres</th>\n      <th>vote_average</th>\n      <th>vote_count</th>\n      <th>popularity</th>\n      <th>title</th>\n      <th>keywords</th>\n      <th>overview</th>\n      <th>score</th>\n    </tr>\n  </thead>\n  <tbody>\n    <tr>\n      <th>0</th>\n      <td>19995</td>\n      <td>Action Adventure Fantasy Science Fiction</td>\n      <td>7.2</td>\n      <td>11800</td>\n      <td>150.437577</td>\n      <td>Avatar</td>\n      <td>culture clash future space war space colony so...</td>\n      <td>In the 22nd century, a paraplegic Marine is di...</td>\n      <td>7.168053</td>\n    </tr>\n    <tr>\n      <th>1</th>\n      <td>285</td>\n      <td>Adventure Fantasy Action</td>\n      <td>6.9</td>\n      <td>4500</td>\n      <td>139.082615</td>\n      <td>Pirates of the Caribbean: At World's End</td>\n      <td>ocean drug abuse exotic island east india trad...</td>\n      <td>Captain Barbossa, long believed to be dead, ha...</td>\n      <td>6.918271</td>\n    </tr>\n    <tr>\n      <th>2</th>\n      <td>206647</td>\n      <td>Action Adventure Crime</td>\n      <td>6.3</td>\n      <td>4466</td>\n      <td>107.376788</td>\n      <td>Spectre</td>\n      <td>spy based on novel secret agent sequel mi6 bri...</td>\n      <td>A cryptic message from Bond’s past sends him o...</td>\n      <td>6.493333</td>\n    </tr>\n    <tr>\n      <th>3</th>\n      <td>49026</td>\n      <td>Action Crime Drama Thriller</td>\n      <td>7.6</td>\n      <td>9106</td>\n      <td>112.312950</td>\n      <td>The Dark Knight Rises</td>\n      <td>dc comics crime fighter terrorist secret ident...</td>\n      <td>Following the death of District Attorney Harve...</td>\n      <td>7.492998</td>\n    </tr>\n    <tr>\n      <th>4</th>\n      <td>49529</td>\n      <td>Action Adventure Science Fiction</td>\n      <td>6.1</td>\n      <td>2124</td>\n      <td>43.926995</td>\n      <td>John Carter</td>\n      <td>based on novel mars medallion space travel pri...</td>\n      <td>John Carter is a war-weary, former military ca...</td>\n      <td>6.500396</td>\n    </tr>\n    <tr>\n      <th>...</th>\n      <td>...</td>\n      <td>...</td>\n      <td>...</td>\n      <td>...</td>\n      <td>...</td>\n      <td>...</td>\n      <td>...</td>\n      <td>...</td>\n      <td>...</td>\n    </tr>\n    <tr>\n      <th>4291</th>\n      <td>176</td>\n      <td>Horror Mystery Crime</td>\n      <td>7.2</td>\n      <td>2184</td>\n      <td>63.655973</td>\n      <td>Saw</td>\n      <td>shotgun based on short film sadist pistol chai...</td>\n      <td>Obsessed with teaching his victims the value o...</td>\n      <td>7.091679</td>\n    </tr>\n    <tr>\n      <th>4300</th>\n      <td>500</td>\n      <td>Crime Thriller</td>\n      <td>8.0</td>\n      <td>3697</td>\n      <td>66.925866</td>\n      <td>Reservoir Dogs</td>\n      <td>traitor jewelry psychopath thief heist betraya...</td>\n      <td>A botched robbery indicates a police informant...</td>\n      <td>7.655593</td>\n    </tr>\n    <tr>\n      <th>4302</th>\n      <td>429</td>\n      <td>Western</td>\n      <td>8.1</td>\n      <td>2311</td>\n      <td>88.377076</td>\n      <td>The Good, the Bad and the Ugly</td>\n      <td>bounty hunter refugee gold anti hero gallows h...</td>\n      <td>While the Civil War rages between the Union an...</td>\n      <td>7.596247</td>\n    </tr>\n    <tr>\n      <th>4337</th>\n      <td>103</td>\n      <td>Crime Drama</td>\n      <td>8.0</td>\n      <td>2535</td>\n      <td>58.845025</td>\n      <td>Taxi Driver</td>\n      <td>vietnam veteran taxi obsession drug dealer nig...</td>\n      <td>A mentally unstable Vietnam War veteran works ...</td>\n      <td>7.564085</td>\n    </tr>\n    <tr>\n      <th>4602</th>\n      <td>389</td>\n      <td>Drama</td>\n      <td>8.2</td>\n      <td>2078</td>\n      <td>59.259204</td>\n      <td>12 Angry Men</td>\n      <td>judge jurors sultriness death penalty father m...</td>\n      <td>The defense and the prosecution have rested an...</td>\n      <td>7.619336</td>\n    </tr>\n  </tbody>\n</table>\n<p>481 rows × 9 columns</p>\n</div>"
     },
     "execution_count": 13,
     "metadata": {},
     "output_type": "execute_result"
    }
   ],
   "source": [
    "using_data"
   ],
   "metadata": {
    "collapsed": false,
    "pycharm": {
     "name": "#%%\n"
    }
   }
  },
  {
   "cell_type": "markdown",
   "source": [
    "## content based filtering"
   ],
   "metadata": {
    "collapsed": false,
    "pycharm": {
     "name": "#%% md\n"
    }
   }
  },
  {
   "cell_type": "markdown",
   "source": [
    "공백 문자열로 표현된 genres와 keyword를 벡터화"
   ],
   "metadata": {
    "collapsed": false,
    "pycharm": {
     "name": "#%% md\n"
    }
   }
  },
  {
   "cell_type": "code",
   "source": [
    "from sklearn.feature_extraction.text import CountVectorizer"
   ],
   "metadata": {
    "collapsed": false,
    "pycharm": {
     "name": "#%%\n"
    }
   },
   "execution_count": 14,
   "outputs": []
  },
  {
   "cell_type": "code",
   "execution_count": 16,
   "outputs": [
    {
     "data": {
      "text/plain": "      id                                    genres  vote_average  vote_count  \\\n0  19995  Action Adventure Fantasy Science Fiction           7.2       11800   \n1    285                  Adventure Fantasy Action           6.9        4500   \n\n   popularity                                     title  \\\n0  150.437577                                    Avatar   \n1  139.082615  Pirates of the Caribbean: At World's End   \n\n                                            keywords  \\\n0  culture clash future space war space colony so...   \n1  ocean drug abuse exotic island east india trad...   \n\n                                            overview     score  \n0  In the 22nd century, a paraplegic Marine is di...  7.168053  \n1  Captain Barbossa, long believed to be dead, ha...  6.918271  ",
      "text/html": "<div>\n<style scoped>\n    .dataframe tbody tr th:only-of-type {\n        vertical-align: middle;\n    }\n\n    .dataframe tbody tr th {\n        vertical-align: top;\n    }\n\n    .dataframe thead th {\n        text-align: right;\n    }\n</style>\n<table border=\"1\" class=\"dataframe\">\n  <thead>\n    <tr style=\"text-align: right;\">\n      <th></th>\n      <th>id</th>\n      <th>genres</th>\n      <th>vote_average</th>\n      <th>vote_count</th>\n      <th>popularity</th>\n      <th>title</th>\n      <th>keywords</th>\n      <th>overview</th>\n      <th>score</th>\n    </tr>\n  </thead>\n  <tbody>\n    <tr>\n      <th>0</th>\n      <td>19995</td>\n      <td>Action Adventure Fantasy Science Fiction</td>\n      <td>7.2</td>\n      <td>11800</td>\n      <td>150.437577</td>\n      <td>Avatar</td>\n      <td>culture clash future space war space colony so...</td>\n      <td>In the 22nd century, a paraplegic Marine is di...</td>\n      <td>7.168053</td>\n    </tr>\n    <tr>\n      <th>1</th>\n      <td>285</td>\n      <td>Adventure Fantasy Action</td>\n      <td>6.9</td>\n      <td>4500</td>\n      <td>139.082615</td>\n      <td>Pirates of the Caribbean: At World's End</td>\n      <td>ocean drug abuse exotic island east india trad...</td>\n      <td>Captain Barbossa, long believed to be dead, ha...</td>\n      <td>6.918271</td>\n    </tr>\n  </tbody>\n</table>\n</div>"
     },
     "execution_count": 16,
     "metadata": {},
     "output_type": "execute_result"
    }
   ],
   "source": [
    "data = using_data\n",
    "data.head(2)"
   ],
   "metadata": {
    "collapsed": false,
    "pycharm": {
     "name": "#%%\n"
    }
   }
  },
  {
   "cell_type": "code",
   "execution_count": null,
   "outputs": [],
   "source": [
    "count_vector = CountVectorizer(ngram_range=(1, 3))\n",
    "c_vector_genres = count_vector.fit_transform(data['genres'])\n",
    "c_vector_genres.shape"
   ],
   "metadata": {
    "collapsed": false,
    "pycharm": {
     "name": "#%%\n"
    }
   }
  },
  {
   "cell_type": "markdown",
   "source": [
    "코사인 유사도를 구한 벡터를 미리 저장"
   ],
   "metadata": {
    "collapsed": false,
    "pycharm": {
     "name": "#%% md\n"
    }
   }
  },
  {
   "cell_type": "code",
   "execution_count": 25,
   "outputs": [],
   "source": [
    "from sklearn.metrics.pairwise import cosine_similarity\n"
   ],
   "metadata": {
    "collapsed": false,
    "pycharm": {
     "name": "#%%\n"
    }
   }
  },
  {
   "cell_type": "code",
   "execution_count": 28,
   "outputs": [],
   "source": [
    "genres_c_sim = cosine_similarity(c_vector_genres, c_vector_genres).argsort()[:, ::-1]"
   ],
   "metadata": {
    "collapsed": false,
    "pycharm": {
     "name": "#%%\n"
    }
   }
  },
  {
   "cell_type": "code",
   "execution_count": 29,
   "outputs": [
    {
     "data": {
      "text/plain": "(481, 481)"
     },
     "execution_count": 29,
     "metadata": {},
     "output_type": "execute_result"
    }
   ],
   "source": [
    "genres_c_sim.shape"
   ],
   "metadata": {
    "collapsed": false,
    "pycharm": {
     "name": "#%%\n"
    }
   }
  },
  {
   "cell_type": "code",
   "execution_count": 34,
   "outputs": [],
   "source": [
    "def get_recommend_movie_list(df, movie_title, top=30):\n",
    "    # 특정 영화와 비슷한 영화를 추천해야 하기 때문에 '특정 영화' 정보를 뽑아낸다.\n",
    "    target_movie_index = df[df['title'] == movie_title].index.values\n",
    "\n",
    "    # 코사인 유사도 중 비슷한 코사인 유사도를 가진 정보를 뽑아낸다.\n",
    "    sim_index = genres_c_sim[target_movie_index, :top].reshape(-1)\n",
    "\n",
    "    # 본인을 제외\n",
    "    sim_index = sim_index[sim_index != target_movie_index]\n",
    "\n",
    "    # data frame으로 만들고 score로 정렬한 뒤 10개만 return\n",
    "    result = df.iloc[sim_index].sort_values('score', ascending=False)[:10]\n",
    "    return result"
   ],
   "metadata": {
    "collapsed": false,
    "pycharm": {
     "name": "#%%\n"
    }
   }
  },
  {
   "cell_type": "code",
   "execution_count": 36,
   "outputs": [
    {
     "data": {
      "text/plain": "          id                      genres  vote_average  vote_count  \\\n494     8587      Family Animation Drama           8.0        5376   \n1532  120467                Comedy Drama           8.0        4519   \n298   106646          Crime Drama Comedy           7.9        6571   \n57     10681            Animation Family           7.8        6296   \n697    37165                Comedy Drama           7.8        4537   \n1541     862     Animation Comedy Family           7.7        5269   \n328       12            Animation Family           7.6        6122   \n42     10193     Animation Family Comedy           7.6        4597   \n231      585     Animation Comedy Family           7.5        5996   \n352    10674  Animation Family Adventure           7.6        2008   \n\n      popularity                     title  \\\n494    90.457886             The Lion King   \n1532   74.417456  The Grand Budapest Hotel   \n298    95.007934   The Wolf of Wall Street   \n57     66.390712                    WALL·E   \n697    56.488027           The Truman Show   \n1541   73.640445                 Toy Story   \n328    85.688789              Finding Nemo   \n42     59.995418               Toy Story 3   \n231   106.815545            Monsters, Inc.   \n352    67.427755                     Mulan   \n\n                                               keywords  \\\n494   loss of parents wild boar uncle shaman redempt...   \n1532  hotel painting wartime gunfight theft mentor p...   \n298   corruption sex sexuality bank humor biography ...   \n57                                      romantic comedy   \n697   claustrophobia hidden camera dystopia reality ...   \n1541  jealousy toy boy friendship friends rivalry bo...   \n328   father son relationship harbor underwater fish...   \n42    hostage college toy barbie animation escape da...   \n231   monster infant energy supply company rivalry h...   \n352   homeland musical training daughter cricket pri...   \n\n                                               overview     score  \n494   A young lion cub named Simba can't wait to be ...  7.735746  \n1532  The Grand Budapest Hotel tells of a legendary ...  7.700124  \n298   A New York stockbroker refuses to cooperate in...  7.695159  \n57    WALL·E is the last robot left on an Earth that...  7.610834  \n697   Truman Burbank is the star of \"The Truman Show...  7.558642  \n1541  Led by Woody, Andy's toys live happily in his ...  7.509366  \n328   Nemo, an adventurous young clownfish, is unexp...  7.452888  \n42    Woody, Buzz, and the rest of Andy's toys haven...  7.418026  \n231   James Sullivan and Mike Wazowski are monsters,...  7.373988  \n352   A tomboyish girl disguises herself as a young ...  7.295541  ",
      "text/html": "<div>\n<style scoped>\n    .dataframe tbody tr th:only-of-type {\n        vertical-align: middle;\n    }\n\n    .dataframe tbody tr th {\n        vertical-align: top;\n    }\n\n    .dataframe thead th {\n        text-align: right;\n    }\n</style>\n<table border=\"1\" class=\"dataframe\">\n  <thead>\n    <tr style=\"text-align: right;\">\n      <th></th>\n      <th>id</th>\n      <th>genres</th>\n      <th>vote_average</th>\n      <th>vote_count</th>\n      <th>popularity</th>\n      <th>title</th>\n      <th>keywords</th>\n      <th>overview</th>\n      <th>score</th>\n    </tr>\n  </thead>\n  <tbody>\n    <tr>\n      <th>494</th>\n      <td>8587</td>\n      <td>Family Animation Drama</td>\n      <td>8.0</td>\n      <td>5376</td>\n      <td>90.457886</td>\n      <td>The Lion King</td>\n      <td>loss of parents wild boar uncle shaman redempt...</td>\n      <td>A young lion cub named Simba can't wait to be ...</td>\n      <td>7.735746</td>\n    </tr>\n    <tr>\n      <th>1532</th>\n      <td>120467</td>\n      <td>Comedy Drama</td>\n      <td>8.0</td>\n      <td>4519</td>\n      <td>74.417456</td>\n      <td>The Grand Budapest Hotel</td>\n      <td>hotel painting wartime gunfight theft mentor p...</td>\n      <td>The Grand Budapest Hotel tells of a legendary ...</td>\n      <td>7.700124</td>\n    </tr>\n    <tr>\n      <th>298</th>\n      <td>106646</td>\n      <td>Crime Drama Comedy</td>\n      <td>7.9</td>\n      <td>6571</td>\n      <td>95.007934</td>\n      <td>The Wolf of Wall Street</td>\n      <td>corruption sex sexuality bank humor biography ...</td>\n      <td>A New York stockbroker refuses to cooperate in...</td>\n      <td>7.695159</td>\n    </tr>\n    <tr>\n      <th>57</th>\n      <td>10681</td>\n      <td>Animation Family</td>\n      <td>7.8</td>\n      <td>6296</td>\n      <td>66.390712</td>\n      <td>WALL·E</td>\n      <td>romantic comedy</td>\n      <td>WALL·E is the last robot left on an Earth that...</td>\n      <td>7.610834</td>\n    </tr>\n    <tr>\n      <th>697</th>\n      <td>37165</td>\n      <td>Comedy Drama</td>\n      <td>7.8</td>\n      <td>4537</td>\n      <td>56.488027</td>\n      <td>The Truman Show</td>\n      <td>claustrophobia hidden camera dystopia reality ...</td>\n      <td>Truman Burbank is the star of \"The Truman Show...</td>\n      <td>7.558642</td>\n    </tr>\n    <tr>\n      <th>1541</th>\n      <td>862</td>\n      <td>Animation Comedy Family</td>\n      <td>7.7</td>\n      <td>5269</td>\n      <td>73.640445</td>\n      <td>Toy Story</td>\n      <td>jealousy toy boy friendship friends rivalry bo...</td>\n      <td>Led by Woody, Andy's toys live happily in his ...</td>\n      <td>7.509366</td>\n    </tr>\n    <tr>\n      <th>328</th>\n      <td>12</td>\n      <td>Animation Family</td>\n      <td>7.6</td>\n      <td>6122</td>\n      <td>85.688789</td>\n      <td>Finding Nemo</td>\n      <td>father son relationship harbor underwater fish...</td>\n      <td>Nemo, an adventurous young clownfish, is unexp...</td>\n      <td>7.452888</td>\n    </tr>\n    <tr>\n      <th>42</th>\n      <td>10193</td>\n      <td>Animation Family Comedy</td>\n      <td>7.6</td>\n      <td>4597</td>\n      <td>59.995418</td>\n      <td>Toy Story 3</td>\n      <td>hostage college toy barbie animation escape da...</td>\n      <td>Woody, Buzz, and the rest of Andy's toys haven...</td>\n      <td>7.418026</td>\n    </tr>\n    <tr>\n      <th>231</th>\n      <td>585</td>\n      <td>Animation Comedy Family</td>\n      <td>7.5</td>\n      <td>5996</td>\n      <td>106.815545</td>\n      <td>Monsters, Inc.</td>\n      <td>monster infant energy supply company rivalry h...</td>\n      <td>James Sullivan and Mike Wazowski are monsters,...</td>\n      <td>7.373988</td>\n    </tr>\n    <tr>\n      <th>352</th>\n      <td>10674</td>\n      <td>Animation Family Adventure</td>\n      <td>7.6</td>\n      <td>2008</td>\n      <td>67.427755</td>\n      <td>Mulan</td>\n      <td>homeland musical training daughter cricket pri...</td>\n      <td>A tomboyish girl disguises herself as a young ...</td>\n      <td>7.295541</td>\n    </tr>\n  </tbody>\n</table>\n</div>"
     },
     "execution_count": 36,
     "metadata": {},
     "output_type": "execute_result"
    }
   ],
   "source": [
    "get_recommend_movie_list(data, movie_title='The Dark Knight')"
   ],
   "metadata": {
    "collapsed": false,
    "pycharm": {
     "name": "#%%\n"
    }
   }
  },
  {
   "cell_type": "code",
   "execution_count": null,
   "outputs": [],
   "source": [],
   "metadata": {
    "collapsed": false,
    "pycharm": {
     "name": "#%%\n"
    }
   }
  }
 ],
 "metadata": {
  "kernelspec": {
   "display_name": "Python 3",
   "language": "python",
   "name": "python3"
  },
  "language_info": {
   "codemirror_mode": {
    "name": "ipython",
    "version": 2
   },
   "file_extension": ".py",
   "mimetype": "text/x-python",
   "name": "python",
   "nbconvert_exporter": "python",
   "pygments_lexer": "ipython2",
   "version": "2.7.6"
  }
 },
 "nbformat": 4,
 "nbformat_minor": 0
}